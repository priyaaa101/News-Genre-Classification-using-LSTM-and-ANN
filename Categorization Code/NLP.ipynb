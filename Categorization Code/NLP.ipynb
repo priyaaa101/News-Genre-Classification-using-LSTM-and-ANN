{
  "nbformat": 4,
  "nbformat_minor": 0,
  "metadata": {
    "colab": {
      "name": "NLP.ipynb",
      "provenance": [],
      "collapsed_sections": []
    },
    "kernelspec": {
      "display_name": "Python 3",
      "name": "python3"
    },
    "language_info": {
      "name": "python"
    },
    "accelerator": "GPU"
  },
  "cells": [
    {
      "cell_type": "markdown",
      "metadata": {
        "id": "Fo2IUnVWYeDo"
      },
      "source": [
        "<h1>IMPORTING DATASET</h1>"
      ]
    },
    {
      "cell_type": "code",
      "metadata": {
        "colab": {
          "base_uri": "https://localhost:8080/"
        },
        "id": "a42trOJoiaz_",
        "outputId": "9b172743-25fb-455a-8434-3901f4cb53cd"
      },
      "source": [
        "from google.colab import drive\n",
        "drive.mount('/content/gdrive')\n",
        "%cd /content"
      ],
      "execution_count": null,
      "outputs": [
        {
          "output_type": "stream",
          "name": "stdout",
          "text": [
            "Mounted at /content/gdrive\n",
            "/content\n"
          ]
        }
      ]
    },
    {
      "cell_type": "code",
      "metadata": {
        "id": "46sqghoIjGRD"
      },
      "source": [
        "!mkdir ~/.kaggle\n",
        "!touch ~/.kaggle/kaggle.json\n",
        "token = {\"username\":\"darkangel24\",\"key\":\"141b363f52c1ebe770b120c3047cec0e\"}\n",
        "import json\n",
        "with open('/root/.kaggle/kaggle.json', 'w') as file:\n",
        "    json.dump(token, file)\n",
        "!chmod 600 ~/.kaggle/kaggle.json"
      ],
      "execution_count": null,
      "outputs": []
    },
    {
      "cell_type": "code",
      "metadata": {
        "colab": {
          "base_uri": "https://localhost:8080/"
        },
        "id": "4W07xUIljbAi",
        "outputId": "3717529c-c47f-4e35-b500-3382ef785d27"
      },
      "source": [
        "!kaggle datasets download -d rmisra/news-category-dataset\n",
        "!unzip news-category-dataset.zip"
      ],
      "execution_count": null,
      "outputs": [
        {
          "output_type": "stream",
          "name": "stdout",
          "text": [
            "Downloading news-category-dataset.zip to /content\n",
            " 67% 17.0M/25.4M [00:00<00:00, 9.58MB/s]\n",
            "100% 25.4M/25.4M [00:01<00:00, 26.3MB/s]\n",
            "Archive:  news-category-dataset.zip\n",
            "  inflating: News_Category_Dataset_v2.json  \n"
          ]
        }
      ]
    },
    {
      "cell_type": "code",
      "metadata": {
        "id": "2H7O8KTFluDf"
      },
      "source": [
        "!rm -r /content/sample_data\n",
        "!rm /content/news-category-dataset.zip"
      ],
      "execution_count": null,
      "outputs": []
    },
    {
      "cell_type": "code",
      "metadata": {
        "colab": {
          "base_uri": "https://localhost:8080/"
        },
        "id": "hVQdsWpFmJDm",
        "outputId": "ba2832e9-6e6c-4cb6-950c-d7dc848e50ca"
      },
      "source": [
        "!pip install emoji\n",
        "!pip install pyenchant\n",
        "!apt install enchant"
      ],
      "execution_count": null,
      "outputs": [
        {
          "output_type": "stream",
          "name": "stdout",
          "text": [
            "Collecting emoji\n",
            "  Downloading emoji-1.6.1.tar.gz (170 kB)\n",
            "\u001b[?25l\r\u001b[K     |██                              | 10 kB 25.0 MB/s eta 0:00:01\r\u001b[K     |███▉                            | 20 kB 8.7 MB/s eta 0:00:01\r\u001b[K     |█████▉                          | 30 kB 7.4 MB/s eta 0:00:01\r\u001b[K     |███████▊                        | 40 kB 6.9 MB/s eta 0:00:01\r\u001b[K     |█████████▋                      | 51 kB 3.8 MB/s eta 0:00:01\r\u001b[K     |███████████▋                    | 61 kB 3.9 MB/s eta 0:00:01\r\u001b[K     |█████████████▌                  | 71 kB 4.2 MB/s eta 0:00:01\r\u001b[K     |███████████████▍                | 81 kB 4.7 MB/s eta 0:00:01\r\u001b[K     |█████████████████▍              | 92 kB 3.6 MB/s eta 0:00:01\r\u001b[K     |███████████████████▎            | 102 kB 3.9 MB/s eta 0:00:01\r\u001b[K     |█████████████████████▏          | 112 kB 3.9 MB/s eta 0:00:01\r\u001b[K     |███████████████████████▏        | 122 kB 3.9 MB/s eta 0:00:01\r\u001b[K     |█████████████████████████       | 133 kB 3.9 MB/s eta 0:00:01\r\u001b[K     |███████████████████████████     | 143 kB 3.9 MB/s eta 0:00:01\r\u001b[K     |█████████████████████████████   | 153 kB 3.9 MB/s eta 0:00:01\r\u001b[K     |██████████████████████████████▉ | 163 kB 3.9 MB/s eta 0:00:01\r\u001b[K     |████████████████████████████████| 170 kB 3.9 MB/s \n",
            "\u001b[?25hBuilding wheels for collected packages: emoji\n",
            "  Building wheel for emoji (setup.py) ... \u001b[?25l\u001b[?25hdone\n",
            "  Created wheel for emoji: filename=emoji-1.6.1-py3-none-any.whl size=169314 sha256=a6a2ed150b4a8613a194e89bf60875102e43e3adcc473a719225843cb2311911\n",
            "  Stored in directory: /root/.cache/pip/wheels/ea/5f/d3/03d313ddb3c2a1a427bb4690f1621eea60fe6f2a30cc95940f\n",
            "Successfully built emoji\n",
            "Installing collected packages: emoji\n",
            "Successfully installed emoji-1.6.1\n",
            "Collecting pyenchant\n",
            "  Downloading pyenchant-3.2.2-py3-none-any.whl (55 kB)\n",
            "\u001b[K     |████████████████████████████████| 55 kB 2.3 MB/s \n",
            "\u001b[?25hInstalling collected packages: pyenchant\n",
            "Successfully installed pyenchant-3.2.2\n",
            "Reading package lists... Done\n",
            "Building dependency tree       \n",
            "Reading state information... Done\n",
            "The following additional packages will be installed:\n",
            "  aspell aspell-en dictionaries-common emacsen-common hunspell-en-us\n",
            "  libaspell15 libenchant1c2a libhunspell-1.6-0 libtext-iconv-perl\n",
            "Suggested packages:\n",
            "  aspell-doc spellutils wordlist hunspell openoffice.org-hunspell\n",
            "  | openoffice.org-core libenchant-voikko\n",
            "The following NEW packages will be installed:\n",
            "  aspell aspell-en dictionaries-common emacsen-common enchant hunspell-en-us\n",
            "  libaspell15 libenchant1c2a libhunspell-1.6-0 libtext-iconv-perl\n",
            "0 upgraded, 10 newly installed, 0 to remove and 37 not upgraded.\n",
            "Need to get 1,312 kB of archives.\n",
            "After this operation, 5,353 kB of additional disk space will be used.\n",
            "Get:1 http://archive.ubuntu.com/ubuntu bionic/main amd64 libtext-iconv-perl amd64 1.7-5build6 [13.0 kB]\n",
            "Get:2 http://archive.ubuntu.com/ubuntu bionic-updates/main amd64 libaspell15 amd64 0.60.7~20110707-4ubuntu0.2 [310 kB]\n",
            "Get:3 http://archive.ubuntu.com/ubuntu bionic/main amd64 emacsen-common all 2.0.8 [17.6 kB]\n",
            "Get:4 http://archive.ubuntu.com/ubuntu bionic/main amd64 dictionaries-common all 1.27.2 [186 kB]\n",
            "Get:5 http://archive.ubuntu.com/ubuntu bionic-updates/main amd64 aspell amd64 0.60.7~20110707-4ubuntu0.2 [87.7 kB]\n",
            "Get:6 http://archive.ubuntu.com/ubuntu bionic/main amd64 aspell-en all 2017.08.24-0-0.1 [298 kB]\n",
            "Get:7 http://archive.ubuntu.com/ubuntu bionic/main amd64 hunspell-en-us all 1:2017.08.24 [168 kB]\n",
            "Get:8 http://archive.ubuntu.com/ubuntu bionic/main amd64 libhunspell-1.6-0 amd64 1.6.2-1 [154 kB]\n",
            "Get:9 http://archive.ubuntu.com/ubuntu bionic/main amd64 libenchant1c2a amd64 1.6.0-11.1 [64.4 kB]\n",
            "Get:10 http://archive.ubuntu.com/ubuntu bionic/main amd64 enchant amd64 1.6.0-11.1 [12.2 kB]\n",
            "Fetched 1,312 kB in 0s (8,866 kB/s)\n",
            "Preconfiguring packages ...\n",
            "Selecting previously unselected package libtext-iconv-perl.\n",
            "(Reading database ... 155222 files and directories currently installed.)\n",
            "Preparing to unpack .../0-libtext-iconv-perl_1.7-5build6_amd64.deb ...\n",
            "Unpacking libtext-iconv-perl (1.7-5build6) ...\n",
            "Selecting previously unselected package libaspell15:amd64.\n",
            "Preparing to unpack .../1-libaspell15_0.60.7~20110707-4ubuntu0.2_amd64.deb ...\n",
            "Unpacking libaspell15:amd64 (0.60.7~20110707-4ubuntu0.2) ...\n",
            "Selecting previously unselected package emacsen-common.\n",
            "Preparing to unpack .../2-emacsen-common_2.0.8_all.deb ...\n",
            "Unpacking emacsen-common (2.0.8) ...\n",
            "Selecting previously unselected package dictionaries-common.\n",
            "Preparing to unpack .../3-dictionaries-common_1.27.2_all.deb ...\n",
            "Adding 'diversion of /usr/share/dict/words to /usr/share/dict/words.pre-dictionaries-common by dictionaries-common'\n",
            "Unpacking dictionaries-common (1.27.2) ...\n",
            "Selecting previously unselected package aspell.\n",
            "Preparing to unpack .../4-aspell_0.60.7~20110707-4ubuntu0.2_amd64.deb ...\n",
            "Unpacking aspell (0.60.7~20110707-4ubuntu0.2) ...\n",
            "Selecting previously unselected package aspell-en.\n",
            "Preparing to unpack .../5-aspell-en_2017.08.24-0-0.1_all.deb ...\n",
            "Unpacking aspell-en (2017.08.24-0-0.1) ...\n",
            "Selecting previously unselected package hunspell-en-us.\n",
            "Preparing to unpack .../6-hunspell-en-us_1%3a2017.08.24_all.deb ...\n",
            "Unpacking hunspell-en-us (1:2017.08.24) ...\n",
            "Selecting previously unselected package libhunspell-1.6-0:amd64.\n",
            "Preparing to unpack .../7-libhunspell-1.6-0_1.6.2-1_amd64.deb ...\n",
            "Unpacking libhunspell-1.6-0:amd64 (1.6.2-1) ...\n",
            "Selecting previously unselected package libenchant1c2a:amd64.\n",
            "Preparing to unpack .../8-libenchant1c2a_1.6.0-11.1_amd64.deb ...\n",
            "Unpacking libenchant1c2a:amd64 (1.6.0-11.1) ...\n",
            "Selecting previously unselected package enchant.\n",
            "Preparing to unpack .../9-enchant_1.6.0-11.1_amd64.deb ...\n",
            "Unpacking enchant (1.6.0-11.1) ...\n",
            "Setting up libhunspell-1.6-0:amd64 (1.6.2-1) ...\n",
            "Setting up libaspell15:amd64 (0.60.7~20110707-4ubuntu0.2) ...\n",
            "Setting up emacsen-common (2.0.8) ...\n",
            "Setting up libtext-iconv-perl (1.7-5build6) ...\n",
            "Setting up dictionaries-common (1.27.2) ...\n",
            "Setting up aspell (0.60.7~20110707-4ubuntu0.2) ...\n",
            "Setting up hunspell-en-us (1:2017.08.24) ...\n",
            "Setting up libenchant1c2a:amd64 (1.6.0-11.1) ...\n",
            "Setting up aspell-en (2017.08.24-0-0.1) ...\n",
            "Setting up enchant (1.6.0-11.1) ...\n",
            "Processing triggers for libc-bin (2.27-3ubuntu1.3) ...\n",
            "/sbin/ldconfig.real: /usr/local/lib/python3.7/dist-packages/ideep4py/lib/libmkldnn.so.0 is not a symbolic link\n",
            "\n",
            "Processing triggers for man-db (2.8.3-2ubuntu0.1) ...\n",
            "Processing triggers for dictionaries-common (1.27.2) ...\n",
            "aspell-autobuildhash: processing: en [en-common].\n",
            "aspell-autobuildhash: processing: en [en-variant_0].\n",
            "aspell-autobuildhash: processing: en [en-variant_1].\n",
            "aspell-autobuildhash: processing: en [en-variant_2].\n",
            "aspell-autobuildhash: processing: en [en-w_accents-only].\n",
            "aspell-autobuildhash: processing: en [en-wo_accents-only].\n",
            "aspell-autobuildhash: processing: en [en_AU-variant_0].\n",
            "aspell-autobuildhash: processing: en [en_AU-variant_1].\n",
            "aspell-autobuildhash: processing: en [en_AU-w_accents-only].\n",
            "aspell-autobuildhash: processing: en [en_AU-wo_accents-only].\n",
            "aspell-autobuildhash: processing: en [en_CA-variant_0].\n",
            "aspell-autobuildhash: processing: en [en_CA-variant_1].\n",
            "aspell-autobuildhash: processing: en [en_CA-w_accents-only].\n",
            "aspell-autobuildhash: processing: en [en_CA-wo_accents-only].\n",
            "aspell-autobuildhash: processing: en [en_GB-ise-w_accents-only].\n",
            "aspell-autobuildhash: processing: en [en_GB-ise-wo_accents-only].\n",
            "aspell-autobuildhash: processing: en [en_GB-ize-w_accents-only].\n",
            "aspell-autobuildhash: processing: en [en_GB-ize-wo_accents-only].\n",
            "aspell-autobuildhash: processing: en [en_GB-variant_0].\n",
            "aspell-autobuildhash: processing: en [en_GB-variant_1].\n",
            "aspell-autobuildhash: processing: en [en_US-w_accents-only].\n",
            "aspell-autobuildhash: processing: en [en_US-wo_accents-only].\n"
          ]
        }
      ]
    },
    {
      "cell_type": "markdown",
      "metadata": {
        "id": "iNSwJ_plYmjF"
      },
      "source": [
        "<h1>IMPORTING LIBRARIES AND MODULES</h1>"
      ]
    },
    {
      "cell_type": "code",
      "metadata": {
        "id": "OuC8nzYpj9E0"
      },
      "source": [
        "import pandas as pd\n",
        "import numpy as np\n",
        "import tensorflow as tf\n",
        "import pickle as pkl\n",
        "import tensorflow.keras as ks\n",
        "import matplotlib.pyplot as plt\n",
        "import re\n",
        "import math\n",
        "import random as rn\n",
        "import emoji\n",
        "import pickle as pkl\n",
        "import enchant\n",
        "from tqdm.notebook import tqdm\n",
        "import nltk\n",
        "from sklearn.model_selection import train_test_split\n",
        "from nltk.stem import WordNetLemmatizer\n",
        "from nltk.corpus import stopwords"
      ],
      "execution_count": null,
      "outputs": []
    },
    {
      "cell_type": "markdown",
      "metadata": {
        "id": "ZCyNDnioYuoh"
      },
      "source": [
        "<h1>READING JSON FILE AND CONVERTING TO CSV</h1>"
      ]
    },
    {
      "cell_type": "code",
      "metadata": {
        "colab": {
          "base_uri": "https://localhost:8080/",
          "height": 206
        },
        "id": "Jf_mDqgHk46k",
        "outputId": "4cb61882-1e9f-460f-ab8a-31760ee46fe0"
      },
      "source": [
        "dataset = pd.read_json('/content/News_Category_Dataset_v2.json', lines=True)\n",
        "dataset.to_csv()\n",
        "df = pd.DataFrame(dataset)\n",
        "df = df.sample(frac=1)\n",
        "df.reset_index(drop=True, inplace=True)\n",
        "df.head()"
      ],
      "execution_count": null,
      "outputs": [
        {
          "output_type": "execute_result",
          "data": {
            "text/html": [
              "<div>\n",
              "<style scoped>\n",
              "    .dataframe tbody tr th:only-of-type {\n",
              "        vertical-align: middle;\n",
              "    }\n",
              "\n",
              "    .dataframe tbody tr th {\n",
              "        vertical-align: top;\n",
              "    }\n",
              "\n",
              "    .dataframe thead th {\n",
              "        text-align: right;\n",
              "    }\n",
              "</style>\n",
              "<table border=\"1\" class=\"dataframe\">\n",
              "  <thead>\n",
              "    <tr style=\"text-align: right;\">\n",
              "      <th></th>\n",
              "      <th>category</th>\n",
              "      <th>headline</th>\n",
              "      <th>authors</th>\n",
              "      <th>link</th>\n",
              "      <th>short_description</th>\n",
              "      <th>date</th>\n",
              "    </tr>\n",
              "  </thead>\n",
              "  <tbody>\n",
              "    <tr>\n",
              "      <th>0</th>\n",
              "      <td>ENTERTAINMENT</td>\n",
              "      <td>Your TV Boyfriend Penn Badgley Married A 'Girl...</td>\n",
              "      <td>Cole Delbyck</td>\n",
              "      <td>https://www.huffingtonpost.com/entry/penn-badg...</td>\n",
              "      <td>One less lonely boy.</td>\n",
              "      <td>2017-02-27</td>\n",
              "    </tr>\n",
              "    <tr>\n",
              "      <th>1</th>\n",
              "      <td>POLITICS</td>\n",
              "      <td>As Ramadan Draws To An End, Mosques Worry Abou...</td>\n",
              "      <td>Carol Kuruvilla</td>\n",
              "      <td>https://www.huffingtonpost.com/entry/ramadan-m...</td>\n",
              "      <td>Rising hate crimes mean cameras and armed guar...</td>\n",
              "      <td>2017-06-23</td>\n",
              "    </tr>\n",
              "    <tr>\n",
              "      <th>2</th>\n",
              "      <td>POLITICS</td>\n",
              "      <td>Here’s How Donald Trump’s Authoritarianism Wou...</td>\n",
              "      <td></td>\n",
              "      <td>https://www.huffingtonpost.comhttp://nymag.com...</td>\n",
              "      <td>At various points in his career, Donald Trump ...</td>\n",
              "      <td>2016-05-13</td>\n",
              "    </tr>\n",
              "    <tr>\n",
              "      <th>3</th>\n",
              "      <td>CRIME</td>\n",
              "      <td>Family Of Four Found Dead In Michigan Home</td>\n",
              "      <td></td>\n",
              "      <td>https://www.huffingtonpost.com/entry/family-of...</td>\n",
              "      <td>\"We'll be on the alert, that's for sure, until...</td>\n",
              "      <td>2015-08-14</td>\n",
              "    </tr>\n",
              "    <tr>\n",
              "      <th>4</th>\n",
              "      <td>WELLNESS</td>\n",
              "      <td>GPS Guide: Judith Rich's Galaxy Guide</td>\n",
              "      <td></td>\n",
              "      <td>https://www.huffingtonpost.com/entry/gps-guide...</td>\n",
              "      <td>The stress and strains of our always-connected...</td>\n",
              "      <td>2012-08-25</td>\n",
              "    </tr>\n",
              "  </tbody>\n",
              "</table>\n",
              "</div>"
            ],
            "text/plain": [
              "        category  ...       date\n",
              "0  ENTERTAINMENT  ... 2017-02-27\n",
              "1       POLITICS  ... 2017-06-23\n",
              "2       POLITICS  ... 2016-05-13\n",
              "3          CRIME  ... 2015-08-14\n",
              "4       WELLNESS  ... 2012-08-25\n",
              "\n",
              "[5 rows x 6 columns]"
            ]
          },
          "metadata": {},
          "execution_count": 7
        }
      ]
    },
    {
      "cell_type": "markdown",
      "metadata": {
        "id": "hfzZMkZNY85m"
      },
      "source": [
        "<h1>CHECKING FOR MISSING VALUES</h1>"
      ]
    },
    {
      "cell_type": "code",
      "metadata": {
        "colab": {
          "base_uri": "https://localhost:8080/"
        },
        "id": "K708egWhLxwz",
        "outputId": "089a33db-974c-4685-e7db-07248273f571"
      },
      "source": [
        "df.isna().sum()"
      ],
      "execution_count": null,
      "outputs": [
        {
          "output_type": "execute_result",
          "data": {
            "text/plain": [
              "category             0\n",
              "headline             0\n",
              "authors              0\n",
              "link                 0\n",
              "short_description    0\n",
              "date                 0\n",
              "dtype: int64"
            ]
          },
          "metadata": {},
          "execution_count": 8
        }
      ]
    },
    {
      "cell_type": "markdown",
      "metadata": {
        "id": "FP4q2JcSZDqT"
      },
      "source": [
        "<h1>DROPPING IRRELEVANT COLUMNS</h1>"
      ]
    },
    {
      "cell_type": "code",
      "metadata": {
        "colab": {
          "base_uri": "https://localhost:8080/",
          "height": 206
        },
        "id": "eU1QUJJDmjc3",
        "outputId": "f3b324ca-5b85-4450-d436-d887fdfdc8d1"
      },
      "source": [
        "df = df.drop(columns=['date', 'authors', 'link'])\n",
        "df.head()"
      ],
      "execution_count": null,
      "outputs": [
        {
          "output_type": "execute_result",
          "data": {
            "text/html": [
              "<div>\n",
              "<style scoped>\n",
              "    .dataframe tbody tr th:only-of-type {\n",
              "        vertical-align: middle;\n",
              "    }\n",
              "\n",
              "    .dataframe tbody tr th {\n",
              "        vertical-align: top;\n",
              "    }\n",
              "\n",
              "    .dataframe thead th {\n",
              "        text-align: right;\n",
              "    }\n",
              "</style>\n",
              "<table border=\"1\" class=\"dataframe\">\n",
              "  <thead>\n",
              "    <tr style=\"text-align: right;\">\n",
              "      <th></th>\n",
              "      <th>category</th>\n",
              "      <th>headline</th>\n",
              "      <th>short_description</th>\n",
              "    </tr>\n",
              "  </thead>\n",
              "  <tbody>\n",
              "    <tr>\n",
              "      <th>0</th>\n",
              "      <td>ENTERTAINMENT</td>\n",
              "      <td>Your TV Boyfriend Penn Badgley Married A 'Girl...</td>\n",
              "      <td>One less lonely boy.</td>\n",
              "    </tr>\n",
              "    <tr>\n",
              "      <th>1</th>\n",
              "      <td>POLITICS</td>\n",
              "      <td>As Ramadan Draws To An End, Mosques Worry Abou...</td>\n",
              "      <td>Rising hate crimes mean cameras and armed guar...</td>\n",
              "    </tr>\n",
              "    <tr>\n",
              "      <th>2</th>\n",
              "      <td>POLITICS</td>\n",
              "      <td>Here’s How Donald Trump’s Authoritarianism Wou...</td>\n",
              "      <td>At various points in his career, Donald Trump ...</td>\n",
              "    </tr>\n",
              "    <tr>\n",
              "      <th>3</th>\n",
              "      <td>CRIME</td>\n",
              "      <td>Family Of Four Found Dead In Michigan Home</td>\n",
              "      <td>\"We'll be on the alert, that's for sure, until...</td>\n",
              "    </tr>\n",
              "    <tr>\n",
              "      <th>4</th>\n",
              "      <td>WELLNESS</td>\n",
              "      <td>GPS Guide: Judith Rich's Galaxy Guide</td>\n",
              "      <td>The stress and strains of our always-connected...</td>\n",
              "    </tr>\n",
              "  </tbody>\n",
              "</table>\n",
              "</div>"
            ],
            "text/plain": [
              "        category  ...                                  short_description\n",
              "0  ENTERTAINMENT  ...                               One less lonely boy.\n",
              "1       POLITICS  ...  Rising hate crimes mean cameras and armed guar...\n",
              "2       POLITICS  ...  At various points in his career, Donald Trump ...\n",
              "3          CRIME  ...  \"We'll be on the alert, that's for sure, until...\n",
              "4       WELLNESS  ...  The stress and strains of our always-connected...\n",
              "\n",
              "[5 rows x 3 columns]"
            ]
          },
          "metadata": {},
          "execution_count": 9
        }
      ]
    },
    {
      "cell_type": "markdown",
      "metadata": {
        "id": "EGsIWTImYrLh"
      },
      "source": [
        "<h1>COMBINE CATEGORIES</h1>"
      ]
    },
    {
      "cell_type": "code",
      "metadata": {
        "id": "J8sKUhN9YqM6"
      },
      "source": [
        "df['category'] = df['category'].replace({'ARTS': 'ARTS & CULTURE',\n",
        "                                         'CULTURE & ARTS': 'ARTS & CULTURE',\n",
        "                                         'PARENTS': 'PARENTING',\n",
        "                                         'STYLE': 'STYLE & BEAUTY',\n",
        "                                         'WORLDPOST': 'WORLD',\n",
        "                                         'THE WORLDPOST': 'WORLD',\n",
        "                                         'WORLD NEWS': 'WORLD',\n",
        "                                         'TASTE': 'FOOD & DRINK',\n",
        "                                         'GREEN': 'ENVIRONMENT'})"
      ],
      "execution_count": null,
      "outputs": []
    },
    {
      "cell_type": "markdown",
      "metadata": {
        "id": "U3gVf4G3ZUqK"
      },
      "source": [
        "<h1>LOWER TEXT</h1>"
      ]
    },
    {
      "cell_type": "code",
      "metadata": {
        "colab": {
          "base_uri": "https://localhost:8080/",
          "height": 206
        },
        "id": "itxpdE7E7wlC",
        "outputId": "6c65c865-26d3-4981-ff15-06883697229b"
      },
      "source": [
        "def lower(sentence):\n",
        "    return sentence.lower()\n",
        "df['headline'] = df['headline'].apply(lambda x: lower(x))\n",
        "df['short_description'] = df['short_description'].apply(lambda x: lower(x))\n",
        "df.head()"
      ],
      "execution_count": null,
      "outputs": [
        {
          "output_type": "execute_result",
          "data": {
            "text/html": [
              "<div>\n",
              "<style scoped>\n",
              "    .dataframe tbody tr th:only-of-type {\n",
              "        vertical-align: middle;\n",
              "    }\n",
              "\n",
              "    .dataframe tbody tr th {\n",
              "        vertical-align: top;\n",
              "    }\n",
              "\n",
              "    .dataframe thead th {\n",
              "        text-align: right;\n",
              "    }\n",
              "</style>\n",
              "<table border=\"1\" class=\"dataframe\">\n",
              "  <thead>\n",
              "    <tr style=\"text-align: right;\">\n",
              "      <th></th>\n",
              "      <th>category</th>\n",
              "      <th>headline</th>\n",
              "      <th>short_description</th>\n",
              "    </tr>\n",
              "  </thead>\n",
              "  <tbody>\n",
              "    <tr>\n",
              "      <th>0</th>\n",
              "      <td>ENTERTAINMENT</td>\n",
              "      <td>your tv boyfriend penn badgley married a 'girl...</td>\n",
              "      <td>one less lonely boy.</td>\n",
              "    </tr>\n",
              "    <tr>\n",
              "      <th>1</th>\n",
              "      <td>POLITICS</td>\n",
              "      <td>as ramadan draws to an end, mosques worry abou...</td>\n",
              "      <td>rising hate crimes mean cameras and armed guar...</td>\n",
              "    </tr>\n",
              "    <tr>\n",
              "      <th>2</th>\n",
              "      <td>POLITICS</td>\n",
              "      <td>here’s how donald trump’s authoritarianism wou...</td>\n",
              "      <td>at various points in his career, donald trump ...</td>\n",
              "    </tr>\n",
              "    <tr>\n",
              "      <th>3</th>\n",
              "      <td>CRIME</td>\n",
              "      <td>family of four found dead in michigan home</td>\n",
              "      <td>\"we'll be on the alert, that's for sure, until...</td>\n",
              "    </tr>\n",
              "    <tr>\n",
              "      <th>4</th>\n",
              "      <td>WELLNESS</td>\n",
              "      <td>gps guide: judith rich's galaxy guide</td>\n",
              "      <td>the stress and strains of our always-connected...</td>\n",
              "    </tr>\n",
              "  </tbody>\n",
              "</table>\n",
              "</div>"
            ],
            "text/plain": [
              "        category  ...                                  short_description\n",
              "0  ENTERTAINMENT  ...                               one less lonely boy.\n",
              "1       POLITICS  ...  rising hate crimes mean cameras and armed guar...\n",
              "2       POLITICS  ...  at various points in his career, donald trump ...\n",
              "3          CRIME  ...  \"we'll be on the alert, that's for sure, until...\n",
              "4       WELLNESS  ...  the stress and strains of our always-connected...\n",
              "\n",
              "[5 rows x 3 columns]"
            ]
          },
          "metadata": {},
          "execution_count": 11
        }
      ]
    },
    {
      "cell_type": "markdown",
      "metadata": {
        "id": "yOlmf7iZmTFi"
      },
      "source": [
        "<h1>REPLACING EMOJIS</h1>"
      ]
    },
    {
      "cell_type": "code",
      "metadata": {
        "colab": {
          "base_uri": "https://localhost:8080/",
          "height": 206
        },
        "id": "xIpNnTTamOrT",
        "outputId": "95d4c2c4-9969-4be7-e2cf-0695c05f8e4d"
      },
      "source": [
        "def remove_emojis(sentence):\n",
        "    return emoji.demojize(sentence, delimiters=(\"\", \"\"))\n",
        "df['headline'] = df['headline'].apply(lambda x: remove_emojis(x))\n",
        "df['short_description'] = df['short_description'].apply(lambda x: remove_emojis(x))\n",
        "df.head()"
      ],
      "execution_count": null,
      "outputs": [
        {
          "output_type": "execute_result",
          "data": {
            "text/html": [
              "<div>\n",
              "<style scoped>\n",
              "    .dataframe tbody tr th:only-of-type {\n",
              "        vertical-align: middle;\n",
              "    }\n",
              "\n",
              "    .dataframe tbody tr th {\n",
              "        vertical-align: top;\n",
              "    }\n",
              "\n",
              "    .dataframe thead th {\n",
              "        text-align: right;\n",
              "    }\n",
              "</style>\n",
              "<table border=\"1\" class=\"dataframe\">\n",
              "  <thead>\n",
              "    <tr style=\"text-align: right;\">\n",
              "      <th></th>\n",
              "      <th>category</th>\n",
              "      <th>headline</th>\n",
              "      <th>short_description</th>\n",
              "    </tr>\n",
              "  </thead>\n",
              "  <tbody>\n",
              "    <tr>\n",
              "      <th>0</th>\n",
              "      <td>ENTERTAINMENT</td>\n",
              "      <td>your tv boyfriend penn badgley married a 'girl...</td>\n",
              "      <td>one less lonely boy.</td>\n",
              "    </tr>\n",
              "    <tr>\n",
              "      <th>1</th>\n",
              "      <td>POLITICS</td>\n",
              "      <td>as ramadan draws to an end, mosques worry abou...</td>\n",
              "      <td>rising hate crimes mean cameras and armed guar...</td>\n",
              "    </tr>\n",
              "    <tr>\n",
              "      <th>2</th>\n",
              "      <td>POLITICS</td>\n",
              "      <td>here’s how donald trump’s authoritarianism wou...</td>\n",
              "      <td>at various points in his career, donald trump ...</td>\n",
              "    </tr>\n",
              "    <tr>\n",
              "      <th>3</th>\n",
              "      <td>CRIME</td>\n",
              "      <td>family of four found dead in michigan home</td>\n",
              "      <td>\"we'll be on the alert, that's for sure, until...</td>\n",
              "    </tr>\n",
              "    <tr>\n",
              "      <th>4</th>\n",
              "      <td>WELLNESS</td>\n",
              "      <td>gps guide: judith rich's galaxy guide</td>\n",
              "      <td>the stress and strains of our always-connected...</td>\n",
              "    </tr>\n",
              "  </tbody>\n",
              "</table>\n",
              "</div>"
            ],
            "text/plain": [
              "        category  ...                                  short_description\n",
              "0  ENTERTAINMENT  ...                               one less lonely boy.\n",
              "1       POLITICS  ...  rising hate crimes mean cameras and armed guar...\n",
              "2       POLITICS  ...  at various points in his career, donald trump ...\n",
              "3          CRIME  ...  \"we'll be on the alert, that's for sure, until...\n",
              "4       WELLNESS  ...  the stress and strains of our always-connected...\n",
              "\n",
              "[5 rows x 3 columns]"
            ]
          },
          "metadata": {},
          "execution_count": 12
        }
      ]
    },
    {
      "cell_type": "markdown",
      "metadata": {
        "id": "zUX--NJ8Zr57"
      },
      "source": [
        "<h1>TOKENIZING THE SENTENCE</h1>"
      ]
    },
    {
      "cell_type": "code",
      "metadata": {
        "colab": {
          "base_uri": "https://localhost:8080/",
          "height": 206
        },
        "id": "4fqHnHe0E7QI",
        "outputId": "e1fd1df5-2a15-40b7-d203-f23a5c78b407"
      },
      "source": [
        "def tokenize(sentence):\n",
        "    sentence_list = sentence.split(' ')\n",
        "    for i in sentence_list:\n",
        "        if i == '':\n",
        "            sentence_list.remove(i)\n",
        "    return sentence_list\n",
        "df['headline'] = df['headline'].apply(lambda x: tokenize(x))\n",
        "df['short_description'] = df['short_description'].apply(lambda x: tokenize(x))\n",
        "df.head()"
      ],
      "execution_count": null,
      "outputs": [
        {
          "output_type": "execute_result",
          "data": {
            "text/html": [
              "<div>\n",
              "<style scoped>\n",
              "    .dataframe tbody tr th:only-of-type {\n",
              "        vertical-align: middle;\n",
              "    }\n",
              "\n",
              "    .dataframe tbody tr th {\n",
              "        vertical-align: top;\n",
              "    }\n",
              "\n",
              "    .dataframe thead th {\n",
              "        text-align: right;\n",
              "    }\n",
              "</style>\n",
              "<table border=\"1\" class=\"dataframe\">\n",
              "  <thead>\n",
              "    <tr style=\"text-align: right;\">\n",
              "      <th></th>\n",
              "      <th>category</th>\n",
              "      <th>headline</th>\n",
              "      <th>short_description</th>\n",
              "    </tr>\n",
              "  </thead>\n",
              "  <tbody>\n",
              "    <tr>\n",
              "      <th>0</th>\n",
              "      <td>ENTERTAINMENT</td>\n",
              "      <td>[your, tv, boyfriend, penn, badgley, married, ...</td>\n",
              "      <td>[one, less, lonely, boy.]</td>\n",
              "    </tr>\n",
              "    <tr>\n",
              "      <th>1</th>\n",
              "      <td>POLITICS</td>\n",
              "      <td>[as, ramadan, draws, to, an, end,, mosques, wo...</td>\n",
              "      <td>[rising, hate, crimes, mean, cameras, and, arm...</td>\n",
              "    </tr>\n",
              "    <tr>\n",
              "      <th>2</th>\n",
              "      <td>POLITICS</td>\n",
              "      <td>[here’s, how, donald, trump’s, authoritarianis...</td>\n",
              "      <td>[at, various, points, in, his, career,, donald...</td>\n",
              "    </tr>\n",
              "    <tr>\n",
              "      <th>3</th>\n",
              "      <td>CRIME</td>\n",
              "      <td>[family, of, four, found, dead, in, michigan, ...</td>\n",
              "      <td>[\"we'll, be, on, the, alert,, that's, for, sur...</td>\n",
              "    </tr>\n",
              "    <tr>\n",
              "      <th>4</th>\n",
              "      <td>WELLNESS</td>\n",
              "      <td>[gps, guide:, judith, rich's, galaxy, guide]</td>\n",
              "      <td>[the, stress, and, strains, of, our, always-co...</td>\n",
              "    </tr>\n",
              "  </tbody>\n",
              "</table>\n",
              "</div>"
            ],
            "text/plain": [
              "        category  ...                                  short_description\n",
              "0  ENTERTAINMENT  ...                          [one, less, lonely, boy.]\n",
              "1       POLITICS  ...  [rising, hate, crimes, mean, cameras, and, arm...\n",
              "2       POLITICS  ...  [at, various, points, in, his, career,, donald...\n",
              "3          CRIME  ...  [\"we'll, be, on, the, alert,, that's, for, sur...\n",
              "4       WELLNESS  ...  [the, stress, and, strains, of, our, always-co...\n",
              "\n",
              "[5 rows x 3 columns]"
            ]
          },
          "metadata": {},
          "execution_count": 13
        }
      ]
    },
    {
      "cell_type": "markdown",
      "metadata": {
        "id": "b0V3AENjEtQa"
      },
      "source": [
        "<h1>SEPERATE COMPOUND WORDS</h1>\n"
      ]
    },
    {
      "cell_type": "code",
      "metadata": {
        "id": "FLYMH8ZT91zM",
        "colab": {
          "base_uri": "https://localhost:8080/",
          "height": 206
        },
        "outputId": "e6590ba0-e5c1-4293-a877-1fab43f9f338"
      },
      "source": [
        "contractions = {\"ain't\": \"are not\", \"aren't\": \"are not\", \"can't\": \"cannot\", \"can't've\": \"cannot have\", \"'cause\": \"because\",\n",
        "                \"could've\": \"could have\", \"couldn't\": \"could not\", \"couldn't've\": \"could not have\", \"didn't\": \"did not\",\n",
        "                \"doesn't\": \"does not\", \"don't\": \"do not\", \"hadn't\": \"had not\", \"hadn't've\": \"had not have\", \"hasn't\": \"has not\",\n",
        "                \"haven't\": \"have not\", \"he'd\": \"he would\", \"he'd've\": \"he would have\", \"he'll\": \"he will\", \"he'll've\": \"he will have\",\n",
        "                \"he's\": \"he is\", \"here's\": \"here is\", \"how'd\": \"how did\", \"how'd'y\": \"how do you\", \"how'll\": \"how will\", \"how's\": \"ow is\", \"i'd\": \"I would\",\n",
        "                \"i'd've\": \"I would have\", \"i'll\": \"I will\", \"i'll've\": \"I will have\", \"i'm\": \"I am\", \"i've\": \"I have\",\n",
        "                \"isn't\": \"is not\", \"it'd\": \"it would\", \"it'd've\": \"it would have\", \"it'll\": \"it will\", \"it'll've\": \"it will have\",\n",
        "                \"it's\": \"it is\", \"let's\": \"let us\", \"ma'am\": \"madam\", \"mayn't\": \"may not\", \"might've\": \"might have\", \"mightn't\": \"might not\",\n",
        "                \"mightn't've\": \"might not have\", \"must've\": \"must have\", \"mustn't\": \"must not\", \"mustn't've\": \"must not have\",\n",
        "                \"needn't\": \"need not\", \"needn't've\": \"need not have\", \"o'clock\": \"of the clock\", \"oughtn't\": \"ought not\",\n",
        "                \"oughtn't've\": \"ought not have\", \"shan't\": \"shall not\", \"sha'n't\": \"shall not\", \"shan't've\": \"shall not have\",\n",
        "                \"she'd\": \"she would\", \"she'd've\": \"she would have\", \"she'll\": \"she will\", \"she'll've\": \"she will have\", \"she's\": \"she is\",\n",
        "                \"should've\": \"should have\", \"shouldn't\": \"should not\", \"shouldn't've\": \"should not have\", \"so've\": \"so have\",\n",
        "                \"so's\": \"so is\", \"that'd\": \"that would\", \"that'd've\": \"that would have\", \"that's\": \"that is\", \"'em\": \"them\",\n",
        "                \"there'd\": \"there would\", \"there'd've\": \"there would have\", \"there's\": \"there is\", \"they'd\": \"they would\",\n",
        "                \"they'd've\": \"they would have\", \"they'll\": \"they will\", \"they'll've\": \"they will have\", \"they're\": \"they are\",\n",
        "                \"they've\": \"they have\", \"to've\": \"to have\", 'u.s.': 'united states', 'u.s.a.': 'united states of america', \"wasn't\": \"was not\", \"we'd\": \"we would\", \"we'd've\": \"we would have\",\n",
        "                \"we'll\": \"we will\", \"we'll've\": \"we will have\", \"we're\": \"we are\", \"we've\": \"we have\", \"weren't\": \"were not\",\n",
        "                \"what'll\": \"what will\", \"what'll've\": \"what will have\", \"what're\": \"what are\", \"what's\": \"what is\",\n",
        "                \"what've\": \"what have\", \"when's\": \"when is\", \"when've\": \"when have\", \"where'd\": \"where did\", \"where's\": \"where is\",\n",
        "                \"where've\": \"where have\", \"who'll\": \"who will\", \"who'll've\": \"who will have\", \"who's\": \"who is\", \"who've\": \"who have\",\n",
        "                \"why's\": \"why is\", \"why've\": \"why have\", \"will've\": \"will have\", \"won't\": \"will not\", \"won't've\": \"will not have\",\n",
        "                \"would've\": \"would have\", \"wouldn't\": \"would not\", \"wouldn't've\": \"would not have\", \"y'all\": \"you all\",\n",
        "                \"y'all'd\": \"you all would\", \"y'all'd've\": \"you all would have\", \"y'all're\": \"you all are\", \"y'all've\": \"you all have\",\n",
        "                \"you'd\": \"you would\", \"you'd've\": \"you would have\", \"you'll\": \"you will\", \"you'll've\": \"you will have\",\n",
        "                \"you're\": \"you are\", \"you've\": \"you have\", 'yrs': 'years', 'yrsold': 'years old', '&': ' and '}\n",
        "def seperate_compound_words(sentence_list):\n",
        "    for i, _ in enumerate(sentence_list):\n",
        "        for j in contractions:\n",
        "            if sentence_list[i] == j:\n",
        "                sentence_list[i] = contractions[j]\n",
        "    sentence = ''\n",
        "    for i in sentence_list:\n",
        "        sentence = sentence + ' ' + i\n",
        "    return sentence\n",
        "df['headline'] = df['headline'].apply(lambda x: seperate_compound_words(x))\n",
        "df['short_description'] = df['short_description'].apply(lambda x: seperate_compound_words(x))\n",
        "df.head()"
      ],
      "execution_count": null,
      "outputs": [
        {
          "output_type": "execute_result",
          "data": {
            "text/html": [
              "<div>\n",
              "<style scoped>\n",
              "    .dataframe tbody tr th:only-of-type {\n",
              "        vertical-align: middle;\n",
              "    }\n",
              "\n",
              "    .dataframe tbody tr th {\n",
              "        vertical-align: top;\n",
              "    }\n",
              "\n",
              "    .dataframe thead th {\n",
              "        text-align: right;\n",
              "    }\n",
              "</style>\n",
              "<table border=\"1\" class=\"dataframe\">\n",
              "  <thead>\n",
              "    <tr style=\"text-align: right;\">\n",
              "      <th></th>\n",
              "      <th>category</th>\n",
              "      <th>headline</th>\n",
              "      <th>short_description</th>\n",
              "    </tr>\n",
              "  </thead>\n",
              "  <tbody>\n",
              "    <tr>\n",
              "      <th>0</th>\n",
              "      <td>ENTERTAINMENT</td>\n",
              "      <td>your tv boyfriend penn badgley married a 'gir...</td>\n",
              "      <td>one less lonely boy.</td>\n",
              "    </tr>\n",
              "    <tr>\n",
              "      <th>1</th>\n",
              "      <td>POLITICS</td>\n",
              "      <td>as ramadan draws to an end, mosques worry abo...</td>\n",
              "      <td>rising hate crimes mean cameras and armed gua...</td>\n",
              "    </tr>\n",
              "    <tr>\n",
              "      <th>2</th>\n",
              "      <td>POLITICS</td>\n",
              "      <td>here’s how donald trump’s authoritarianism wo...</td>\n",
              "      <td>at various points in his career, donald trump...</td>\n",
              "    </tr>\n",
              "    <tr>\n",
              "      <th>3</th>\n",
              "      <td>CRIME</td>\n",
              "      <td>family of four found dead in michigan home</td>\n",
              "      <td>\"we'll be on the alert, that is for sure, unt...</td>\n",
              "    </tr>\n",
              "    <tr>\n",
              "      <th>4</th>\n",
              "      <td>WELLNESS</td>\n",
              "      <td>gps guide: judith rich's galaxy guide</td>\n",
              "      <td>the stress and strains of our always-connecte...</td>\n",
              "    </tr>\n",
              "  </tbody>\n",
              "</table>\n",
              "</div>"
            ],
            "text/plain": [
              "        category  ...                                  short_description\n",
              "0  ENTERTAINMENT  ...                               one less lonely boy.\n",
              "1       POLITICS  ...   rising hate crimes mean cameras and armed gua...\n",
              "2       POLITICS  ...   at various points in his career, donald trump...\n",
              "3          CRIME  ...   \"we'll be on the alert, that is for sure, unt...\n",
              "4       WELLNESS  ...   the stress and strains of our always-connecte...\n",
              "\n",
              "[5 rows x 3 columns]"
            ]
          },
          "metadata": {},
          "execution_count": 14
        }
      ]
    },
    {
      "cell_type": "markdown",
      "metadata": {
        "id": "O3GUTyCoZgwP"
      },
      "source": [
        "<h1>REMOVE PUNCTUATIONS</h1>"
      ]
    },
    {
      "cell_type": "code",
      "metadata": {
        "id": "sahuMBBWGag2",
        "colab": {
          "base_uri": "https://localhost:8080/",
          "height": 206
        },
        "outputId": "8882ac4c-9610-44f7-9c39-9bacfb3fa538"
      },
      "source": [
        "def remove_punctuations(sentence):\n",
        "    new_sentence = re.sub(r'[^\\w\\s]', ' ', sentence, re.UNICODE)\n",
        "    return new_sentence\n",
        "df['headline'] = df['headline'].apply(lambda x: remove_punctuations(x))\n",
        "df['short_description'] = df['short_description'].apply(lambda x: remove_punctuations(x))\n",
        "df.head()"
      ],
      "execution_count": null,
      "outputs": [
        {
          "output_type": "execute_result",
          "data": {
            "text/html": [
              "<div>\n",
              "<style scoped>\n",
              "    .dataframe tbody tr th:only-of-type {\n",
              "        vertical-align: middle;\n",
              "    }\n",
              "\n",
              "    .dataframe tbody tr th {\n",
              "        vertical-align: top;\n",
              "    }\n",
              "\n",
              "    .dataframe thead th {\n",
              "        text-align: right;\n",
              "    }\n",
              "</style>\n",
              "<table border=\"1\" class=\"dataframe\">\n",
              "  <thead>\n",
              "    <tr style=\"text-align: right;\">\n",
              "      <th></th>\n",
              "      <th>category</th>\n",
              "      <th>headline</th>\n",
              "      <th>short_description</th>\n",
              "    </tr>\n",
              "  </thead>\n",
              "  <tbody>\n",
              "    <tr>\n",
              "      <th>0</th>\n",
              "      <td>ENTERTAINMENT</td>\n",
              "      <td>your tv boyfriend penn badgley married a  gir...</td>\n",
              "      <td>one less lonely boy</td>\n",
              "    </tr>\n",
              "    <tr>\n",
              "      <th>1</th>\n",
              "      <td>POLITICS</td>\n",
              "      <td>as ramadan draws to an end  mosques worry abo...</td>\n",
              "      <td>rising hate crimes mean cameras and armed gua...</td>\n",
              "    </tr>\n",
              "    <tr>\n",
              "      <th>2</th>\n",
              "      <td>POLITICS</td>\n",
              "      <td>here s how donald trump s authoritarianism wo...</td>\n",
              "      <td>at various points in his career  donald trump...</td>\n",
              "    </tr>\n",
              "    <tr>\n",
              "      <th>3</th>\n",
              "      <td>CRIME</td>\n",
              "      <td>family of four found dead in michigan home</td>\n",
              "      <td>we ll be on the alert  that is for sure  unt...</td>\n",
              "    </tr>\n",
              "    <tr>\n",
              "      <th>4</th>\n",
              "      <td>WELLNESS</td>\n",
              "      <td>gps guide  judith rich s galaxy guide</td>\n",
              "      <td>the stress and strains of our always connecte...</td>\n",
              "    </tr>\n",
              "  </tbody>\n",
              "</table>\n",
              "</div>"
            ],
            "text/plain": [
              "        category  ...                                  short_description\n",
              "0  ENTERTAINMENT  ...                               one less lonely boy \n",
              "1       POLITICS  ...   rising hate crimes mean cameras and armed gua...\n",
              "2       POLITICS  ...   at various points in his career  donald trump...\n",
              "3          CRIME  ...    we ll be on the alert  that is for sure  unt...\n",
              "4       WELLNESS  ...   the stress and strains of our always connecte...\n",
              "\n",
              "[5 rows x 3 columns]"
            ]
          },
          "metadata": {},
          "execution_count": 15
        }
      ]
    },
    {
      "cell_type": "code",
      "metadata": {
        "id": "q5LOjKfRD0aE",
        "colab": {
          "base_uri": "https://localhost:8080/",
          "height": 206
        },
        "outputId": "8452eede-52d8-4475-defb-1709d95fd064"
      },
      "source": [
        "df['headline'] = df['headline'].apply(lambda x: tokenize(x))\n",
        "df['short_description'] = df['short_description'].apply(lambda x: tokenize(x))\n",
        "df.head()"
      ],
      "execution_count": null,
      "outputs": [
        {
          "output_type": "execute_result",
          "data": {
            "text/html": [
              "<div>\n",
              "<style scoped>\n",
              "    .dataframe tbody tr th:only-of-type {\n",
              "        vertical-align: middle;\n",
              "    }\n",
              "\n",
              "    .dataframe tbody tr th {\n",
              "        vertical-align: top;\n",
              "    }\n",
              "\n",
              "    .dataframe thead th {\n",
              "        text-align: right;\n",
              "    }\n",
              "</style>\n",
              "<table border=\"1\" class=\"dataframe\">\n",
              "  <thead>\n",
              "    <tr style=\"text-align: right;\">\n",
              "      <th></th>\n",
              "      <th>category</th>\n",
              "      <th>headline</th>\n",
              "      <th>short_description</th>\n",
              "    </tr>\n",
              "  </thead>\n",
              "  <tbody>\n",
              "    <tr>\n",
              "      <th>0</th>\n",
              "      <td>ENTERTAINMENT</td>\n",
              "      <td>[your, tv, boyfriend, penn, badgley, married, ...</td>\n",
              "      <td>[one, less, lonely, boy]</td>\n",
              "    </tr>\n",
              "    <tr>\n",
              "      <th>1</th>\n",
              "      <td>POLITICS</td>\n",
              "      <td>[as, ramadan, draws, to, an, end, mosques, wor...</td>\n",
              "      <td>[rising, hate, crimes, mean, cameras, and, arm...</td>\n",
              "    </tr>\n",
              "    <tr>\n",
              "      <th>2</th>\n",
              "      <td>POLITICS</td>\n",
              "      <td>[here, s, how, donald, trump, s, authoritarian...</td>\n",
              "      <td>[at, various, points, in, his, career, donald,...</td>\n",
              "    </tr>\n",
              "    <tr>\n",
              "      <th>3</th>\n",
              "      <td>CRIME</td>\n",
              "      <td>[family, of, four, found, dead, in, michigan, ...</td>\n",
              "      <td>[we, ll, be, on, the, alert, that, is, for, su...</td>\n",
              "    </tr>\n",
              "    <tr>\n",
              "      <th>4</th>\n",
              "      <td>WELLNESS</td>\n",
              "      <td>[gps, guide, judith, rich, s, galaxy, guide]</td>\n",
              "      <td>[the, stress, and, strains, of, our, always, c...</td>\n",
              "    </tr>\n",
              "  </tbody>\n",
              "</table>\n",
              "</div>"
            ],
            "text/plain": [
              "        category  ...                                  short_description\n",
              "0  ENTERTAINMENT  ...                           [one, less, lonely, boy]\n",
              "1       POLITICS  ...  [rising, hate, crimes, mean, cameras, and, arm...\n",
              "2       POLITICS  ...  [at, various, points, in, his, career, donald,...\n",
              "3          CRIME  ...  [we, ll, be, on, the, alert, that, is, for, su...\n",
              "4       WELLNESS  ...  [the, stress, and, strains, of, our, always, c...\n",
              "\n",
              "[5 rows x 3 columns]"
            ]
          },
          "metadata": {},
          "execution_count": 16
        }
      ]
    },
    {
      "cell_type": "markdown",
      "metadata": {
        "id": "MHHumeurZ6Ca"
      },
      "source": [
        "<h1>LEMMATIZING WORDS</h1>"
      ]
    },
    {
      "cell_type": "code",
      "metadata": {
        "id": "nDr67LH6Hu_1",
        "colab": {
          "base_uri": "https://localhost:8080/",
          "height": 241
        },
        "outputId": "51a54355-fee4-45f7-9c0e-297fd7d9b335"
      },
      "source": [
        "nltk.download('wordnet')\n",
        "lemmatizer = WordNetLemmatizer()\n",
        "def lemmatize(sentence_list):\n",
        "    new_list = []\n",
        "    for i in sentence_list:\n",
        "        new_list.append(lemmatizer.lemmatize(i))\n",
        "    return new_list\n",
        "df['headline'] = df['headline'].apply(lambda x: lemmatize(x))\n",
        "df['short_description'] = df['short_description'].apply(lambda x: lemmatize(x))\n",
        "df.head()"
      ],
      "execution_count": null,
      "outputs": [
        {
          "output_type": "stream",
          "name": "stdout",
          "text": [
            "[nltk_data] Downloading package wordnet to /root/nltk_data...\n",
            "[nltk_data]   Unzipping corpora/wordnet.zip.\n"
          ]
        },
        {
          "output_type": "execute_result",
          "data": {
            "text/html": [
              "<div>\n",
              "<style scoped>\n",
              "    .dataframe tbody tr th:only-of-type {\n",
              "        vertical-align: middle;\n",
              "    }\n",
              "\n",
              "    .dataframe tbody tr th {\n",
              "        vertical-align: top;\n",
              "    }\n",
              "\n",
              "    .dataframe thead th {\n",
              "        text-align: right;\n",
              "    }\n",
              "</style>\n",
              "<table border=\"1\" class=\"dataframe\">\n",
              "  <thead>\n",
              "    <tr style=\"text-align: right;\">\n",
              "      <th></th>\n",
              "      <th>category</th>\n",
              "      <th>headline</th>\n",
              "      <th>short_description</th>\n",
              "    </tr>\n",
              "  </thead>\n",
              "  <tbody>\n",
              "    <tr>\n",
              "      <th>0</th>\n",
              "      <td>ENTERTAINMENT</td>\n",
              "      <td>[your, tv, boyfriend, penn, badgley, married, ...</td>\n",
              "      <td>[one, le, lonely, boy]</td>\n",
              "    </tr>\n",
              "    <tr>\n",
              "      <th>1</th>\n",
              "      <td>POLITICS</td>\n",
              "      <td>[a, ramadan, draw, to, an, end, mosque, worry,...</td>\n",
              "      <td>[rising, hate, crime, mean, camera, and, armed...</td>\n",
              "    </tr>\n",
              "    <tr>\n",
              "      <th>2</th>\n",
              "      <td>POLITICS</td>\n",
              "      <td>[here, s, how, donald, trump, s, authoritarian...</td>\n",
              "      <td>[at, various, point, in, his, career, donald, ...</td>\n",
              "    </tr>\n",
              "    <tr>\n",
              "      <th>3</th>\n",
              "      <td>CRIME</td>\n",
              "      <td>[family, of, four, found, dead, in, michigan, ...</td>\n",
              "      <td>[we, ll, be, on, the, alert, that, is, for, su...</td>\n",
              "    </tr>\n",
              "    <tr>\n",
              "      <th>4</th>\n",
              "      <td>WELLNESS</td>\n",
              "      <td>[gps, guide, judith, rich, s, galaxy, guide]</td>\n",
              "      <td>[the, stress, and, strain, of, our, always, co...</td>\n",
              "    </tr>\n",
              "  </tbody>\n",
              "</table>\n",
              "</div>"
            ],
            "text/plain": [
              "        category  ...                                  short_description\n",
              "0  ENTERTAINMENT  ...                             [one, le, lonely, boy]\n",
              "1       POLITICS  ...  [rising, hate, crime, mean, camera, and, armed...\n",
              "2       POLITICS  ...  [at, various, point, in, his, career, donald, ...\n",
              "3          CRIME  ...  [we, ll, be, on, the, alert, that, is, for, su...\n",
              "4       WELLNESS  ...  [the, stress, and, strain, of, our, always, co...\n",
              "\n",
              "[5 rows x 3 columns]"
            ]
          },
          "metadata": {},
          "execution_count": 17
        }
      ]
    },
    {
      "cell_type": "markdown",
      "metadata": {
        "id": "IGIPnoPwDELj"
      },
      "source": [
        "<h1>REMOVING NONSENSICAL WORDS</h1>"
      ]
    },
    {
      "cell_type": "code",
      "metadata": {
        "id": "le6fSIH8DC9-",
        "colab": {
          "base_uri": "https://localhost:8080/",
          "height": 206
        },
        "outputId": "d093c60f-2c2e-4d12-b71c-6c89bc00251d"
      },
      "source": [
        "eng_dict = enchant.Dict(\"en_US\")\n",
        "def remove_incorrect_words(sentence_list):\n",
        "    for i in sentence_list:\n",
        "        if i == '' or not eng_dict.check(i):\n",
        "            sentence_list.remove(i)\n",
        "    return sentence_list\n",
        "df['headline'] = df['headline'].apply(lambda x: remove_incorrect_words(x))\n",
        "df['short_description'] = df['short_description'].apply(lambda x: remove_incorrect_words(x))\n",
        "df.head()"
      ],
      "execution_count": null,
      "outputs": [
        {
          "output_type": "execute_result",
          "data": {
            "text/html": [
              "<div>\n",
              "<style scoped>\n",
              "    .dataframe tbody tr th:only-of-type {\n",
              "        vertical-align: middle;\n",
              "    }\n",
              "\n",
              "    .dataframe tbody tr th {\n",
              "        vertical-align: top;\n",
              "    }\n",
              "\n",
              "    .dataframe thead th {\n",
              "        text-align: right;\n",
              "    }\n",
              "</style>\n",
              "<table border=\"1\" class=\"dataframe\">\n",
              "  <thead>\n",
              "    <tr style=\"text-align: right;\">\n",
              "      <th></th>\n",
              "      <th>category</th>\n",
              "      <th>headline</th>\n",
              "      <th>short_description</th>\n",
              "    </tr>\n",
              "  </thead>\n",
              "  <tbody>\n",
              "    <tr>\n",
              "      <th>0</th>\n",
              "      <td>ENTERTAINMENT</td>\n",
              "      <td>[your, boyfriend, badgley, married, a, girl, s...</td>\n",
              "      <td>[one, lonely, boy]</td>\n",
              "    </tr>\n",
              "    <tr>\n",
              "      <th>1</th>\n",
              "      <td>POLITICS</td>\n",
              "      <td>[a, draw, to, an, end, mosque, worry, about, s...</td>\n",
              "      <td>[rising, hate, crime, mean, camera, and, armed...</td>\n",
              "    </tr>\n",
              "    <tr>\n",
              "      <th>2</th>\n",
              "      <td>POLITICS</td>\n",
              "      <td>[here, s, how, trump, s, authoritarianism, wou...</td>\n",
              "      <td>[at, various, point, in, his, career, trump, h...</td>\n",
              "    </tr>\n",
              "    <tr>\n",
              "      <th>3</th>\n",
              "      <td>CRIME</td>\n",
              "      <td>[family, of, four, found, dead, in, home]</td>\n",
              "      <td>[we, ll, be, on, the, alert, that, is, for, su...</td>\n",
              "    </tr>\n",
              "    <tr>\n",
              "      <th>4</th>\n",
              "      <td>WELLNESS</td>\n",
              "      <td>[guide, rich, s, galaxy, guide]</td>\n",
              "      <td>[the, stress, and, strain, of, our, always, co...</td>\n",
              "    </tr>\n",
              "  </tbody>\n",
              "</table>\n",
              "</div>"
            ],
            "text/plain": [
              "        category  ...                                  short_description\n",
              "0  ENTERTAINMENT  ...                                 [one, lonely, boy]\n",
              "1       POLITICS  ...  [rising, hate, crime, mean, camera, and, armed...\n",
              "2       POLITICS  ...  [at, various, point, in, his, career, trump, h...\n",
              "3          CRIME  ...  [we, ll, be, on, the, alert, that, is, for, su...\n",
              "4       WELLNESS  ...  [the, stress, and, strain, of, our, always, co...\n",
              "\n",
              "[5 rows x 3 columns]"
            ]
          },
          "metadata": {},
          "execution_count": 19
        }
      ]
    },
    {
      "cell_type": "code",
      "metadata": {
        "colab": {
          "base_uri": "https://localhost:8080/",
          "height": 206
        },
        "id": "1r_b-xKpelTj",
        "outputId": "1d808066-a927-4f24-f410-4f6bc623d1cb"
      },
      "source": [
        "def list_to_sentence(sentence_list):\n",
        "    sentence = ''\n",
        "    for i in sentence_list:\n",
        "        sentence = sentence + ' ' + i\n",
        "    return sentence\n",
        "df['headline'] = df['headline'].apply(lambda x: list_to_sentence(x))\n",
        "df['short_description'] = df['short_description'].apply(lambda x: list_to_sentence(x))\n",
        "df.head()"
      ],
      "execution_count": null,
      "outputs": [
        {
          "output_type": "execute_result",
          "data": {
            "text/html": [
              "<div>\n",
              "<style scoped>\n",
              "    .dataframe tbody tr th:only-of-type {\n",
              "        vertical-align: middle;\n",
              "    }\n",
              "\n",
              "    .dataframe tbody tr th {\n",
              "        vertical-align: top;\n",
              "    }\n",
              "\n",
              "    .dataframe thead th {\n",
              "        text-align: right;\n",
              "    }\n",
              "</style>\n",
              "<table border=\"1\" class=\"dataframe\">\n",
              "  <thead>\n",
              "    <tr style=\"text-align: right;\">\n",
              "      <th></th>\n",
              "      <th>category</th>\n",
              "      <th>headline</th>\n",
              "      <th>short_description</th>\n",
              "    </tr>\n",
              "  </thead>\n",
              "  <tbody>\n",
              "    <tr>\n",
              "      <th>0</th>\n",
              "      <td>ENTERTAINMENT</td>\n",
              "      <td>your boyfriend badgley married a girl star s ...</td>\n",
              "      <td>one lonely boy</td>\n",
              "    </tr>\n",
              "    <tr>\n",
              "      <th>1</th>\n",
              "      <td>POLITICS</td>\n",
              "      <td>a draw to an end mosque worry about security</td>\n",
              "      <td>rising hate crime mean camera and armed guard...</td>\n",
              "    </tr>\n",
              "    <tr>\n",
              "      <th>2</th>\n",
              "      <td>POLITICS</td>\n",
              "      <td>here s how trump s authoritarianism would act...</td>\n",
              "      <td>at various point in his career trump ha prais...</td>\n",
              "    </tr>\n",
              "    <tr>\n",
              "      <th>3</th>\n",
              "      <td>CRIME</td>\n",
              "      <td>family of four found dead in home</td>\n",
              "      <td>we ll be on the alert that is for sure until ...</td>\n",
              "    </tr>\n",
              "    <tr>\n",
              "      <th>4</th>\n",
              "      <td>WELLNESS</td>\n",
              "      <td>guide rich s galaxy guide</td>\n",
              "      <td>the stress and strain of our always connected...</td>\n",
              "    </tr>\n",
              "  </tbody>\n",
              "</table>\n",
              "</div>"
            ],
            "text/plain": [
              "        category  ...                                  short_description\n",
              "0  ENTERTAINMENT  ...                                     one lonely boy\n",
              "1       POLITICS  ...   rising hate crime mean camera and armed guard...\n",
              "2       POLITICS  ...   at various point in his career trump ha prais...\n",
              "3          CRIME  ...   we ll be on the alert that is for sure until ...\n",
              "4       WELLNESS  ...   the stress and strain of our always connected...\n",
              "\n",
              "[5 rows x 3 columns]"
            ]
          },
          "metadata": {},
          "execution_count": 20
        }
      ]
    },
    {
      "cell_type": "markdown",
      "metadata": {
        "id": "Ax1UueWWlRBf"
      },
      "source": [
        "<h1>TARGET ENCODING</h1>"
      ]
    },
    {
      "cell_type": "code",
      "metadata": {
        "colab": {
          "base_uri": "https://localhost:8080/"
        },
        "id": "STz5k8RSNtzw",
        "outputId": "0c7a8f0f-1dc6-4269-c708-82bbbe13c1a5"
      },
      "source": [
        "sorted(df['category'].unique())"
      ],
      "execution_count": null,
      "outputs": [
        {
          "output_type": "execute_result",
          "data": {
            "text/plain": [
              "['ARTS & CULTURE',\n",
              " 'BLACK VOICES',\n",
              " 'BUSINESS',\n",
              " 'COLLEGE',\n",
              " 'COMEDY',\n",
              " 'CRIME',\n",
              " 'DIVORCE',\n",
              " 'EDUCATION',\n",
              " 'ENTERTAINMENT',\n",
              " 'ENVIRONMENT',\n",
              " 'FIFTY',\n",
              " 'FOOD & DRINK',\n",
              " 'GOOD NEWS',\n",
              " 'HEALTHY LIVING',\n",
              " 'HOME & LIVING',\n",
              " 'IMPACT',\n",
              " 'LATINO VOICES',\n",
              " 'MEDIA',\n",
              " 'MONEY',\n",
              " 'PARENTING',\n",
              " 'POLITICS',\n",
              " 'QUEER VOICES',\n",
              " 'RELIGION',\n",
              " 'SCIENCE',\n",
              " 'SPORTS',\n",
              " 'STYLE & BEAUTY',\n",
              " 'TECH',\n",
              " 'TRAVEL',\n",
              " 'WEDDINGS',\n",
              " 'WEIRD NEWS',\n",
              " 'WELLNESS',\n",
              " 'WOMEN',\n",
              " 'WORLD']"
            ]
          },
          "metadata": {},
          "execution_count": 21
        }
      ]
    },
    {
      "cell_type": "code",
      "metadata": {
        "id": "D44HDOXDxAFi"
      },
      "source": [
        "def plot_bar_graph_of_unique_quantities(dataframe, col):\n",
        "    data = dict(dataframe[col].value_counts())\n",
        "    courses = list(data.keys())\n",
        "    values = list(data.values())\n",
        "    fig = plt.figure(figsize = (20, 10))\n",
        "    plt.bar(courses, values, color ='green', width = 0.4)\n",
        "    plt.ylabel(\"COUNT\")\n",
        "    plt.xlabel(\"CATEGORY\")\n",
        "    plt.title(f\"COUNT VS CATEGORY\")\n",
        "    plt.show()\n",
        "plot_bar_graph_of_unique_quantities(dataframe, 'category')"
      ],
      "execution_count": null,
      "outputs": []
    },
    {
      "cell_type": "code",
      "metadata": {
        "id": "ZjDTNPG7fEhg",
        "colab": {
          "base_uri": "https://localhost:8080/"
        },
        "outputId": "63454a66-44c8-4ce5-d623-3a0186290955"
      },
      "source": [
        "Y = df['category']\n",
        "Y = pd.get_dummies(Y)\n",
        "Y.shape"
      ],
      "execution_count": null,
      "outputs": [
        {
          "output_type": "execute_result",
          "data": {
            "text/plain": [
              "(200853, 33)"
            ]
          },
          "metadata": {},
          "execution_count": 22
        }
      ]
    },
    {
      "cell_type": "markdown",
      "metadata": {
        "id": "DrxMPYwblX8V"
      },
      "source": [
        "<h1>FEATURE ENCODING</h1>"
      ]
    },
    {
      "cell_type": "code",
      "metadata": {
        "id": "HFUlLeOH8Xwn",
        "colab": {
          "base_uri": "https://localhost:8080/",
          "height": 206
        },
        "outputId": "116ea38f-1c61-4fff-8672-a42e7cfc41bf"
      },
      "source": [
        "df['input'] = df['headline'].astype(str) + ' ' + df['short_description'].astype(str)\n",
        "df.head()"
      ],
      "execution_count": null,
      "outputs": [
        {
          "output_type": "execute_result",
          "data": {
            "text/html": [
              "<div>\n",
              "<style scoped>\n",
              "    .dataframe tbody tr th:only-of-type {\n",
              "        vertical-align: middle;\n",
              "    }\n",
              "\n",
              "    .dataframe tbody tr th {\n",
              "        vertical-align: top;\n",
              "    }\n",
              "\n",
              "    .dataframe thead th {\n",
              "        text-align: right;\n",
              "    }\n",
              "</style>\n",
              "<table border=\"1\" class=\"dataframe\">\n",
              "  <thead>\n",
              "    <tr style=\"text-align: right;\">\n",
              "      <th></th>\n",
              "      <th>category</th>\n",
              "      <th>headline</th>\n",
              "      <th>short_description</th>\n",
              "      <th>input</th>\n",
              "    </tr>\n",
              "  </thead>\n",
              "  <tbody>\n",
              "    <tr>\n",
              "      <th>0</th>\n",
              "      <td>ENTERTAINMENT</td>\n",
              "      <td>your boyfriend badgley married a girl star s ...</td>\n",
              "      <td>one lonely boy</td>\n",
              "      <td>your boyfriend badgley married a girl star s ...</td>\n",
              "    </tr>\n",
              "    <tr>\n",
              "      <th>1</th>\n",
              "      <td>POLITICS</td>\n",
              "      <td>a draw to an end mosque worry about security</td>\n",
              "      <td>rising hate crime mean camera and armed guard...</td>\n",
              "      <td>a draw to an end mosque worry about security ...</td>\n",
              "    </tr>\n",
              "    <tr>\n",
              "      <th>2</th>\n",
              "      <td>POLITICS</td>\n",
              "      <td>here s how trump s authoritarianism would act...</td>\n",
              "      <td>at various point in his career trump ha prais...</td>\n",
              "      <td>here s how trump s authoritarianism would act...</td>\n",
              "    </tr>\n",
              "    <tr>\n",
              "      <th>3</th>\n",
              "      <td>CRIME</td>\n",
              "      <td>family of four found dead in home</td>\n",
              "      <td>we ll be on the alert that is for sure until ...</td>\n",
              "      <td>family of four found dead in home  we ll be o...</td>\n",
              "    </tr>\n",
              "    <tr>\n",
              "      <th>4</th>\n",
              "      <td>WELLNESS</td>\n",
              "      <td>guide rich s galaxy guide</td>\n",
              "      <td>the stress and strain of our always connected...</td>\n",
              "      <td>guide rich s galaxy guide  the stress and str...</td>\n",
              "    </tr>\n",
              "  </tbody>\n",
              "</table>\n",
              "</div>"
            ],
            "text/plain": [
              "        category  ...                                              input\n",
              "0  ENTERTAINMENT  ...   your boyfriend badgley married a girl star s ...\n",
              "1       POLITICS  ...   a draw to an end mosque worry about security ...\n",
              "2       POLITICS  ...   here s how trump s authoritarianism would act...\n",
              "3          CRIME  ...   family of four found dead in home  we ll be o...\n",
              "4       WELLNESS  ...   guide rich s galaxy guide  the stress and str...\n",
              "\n",
              "[5 rows x 4 columns]"
            ]
          },
          "metadata": {},
          "execution_count": 23
        }
      ]
    },
    {
      "cell_type": "code",
      "metadata": {
        "id": "3QJJ3-0OjOpS"
      },
      "source": [
        "max_words = 53280\n",
        "max_sequence_length = 250\n",
        "embedding_dims = 100"
      ],
      "execution_count": null,
      "outputs": []
    },
    {
      "cell_type": "code",
      "metadata": {
        "colab": {
          "base_uri": "https://localhost:8080/"
        },
        "id": "6C4Jp7uIjvCV",
        "outputId": "d6ed5333-dafc-43da-e750-e12603438f5e"
      },
      "source": [
        "tokenizer = ks.preprocessing.text.Tokenizer(num_words=max_words, filters='!\"#$%&()*+,-./:;<=>?@[\\]^_`{|}~', lower=True)\n",
        "tokenizer.fit_on_texts(df['input'].values)\n",
        "word_index = tokenizer.word_index\n",
        "unique_words = len(word_index)\n",
        "unique_words"
      ],
      "execution_count": null,
      "outputs": [
        {
          "output_type": "execute_result",
          "data": {
            "text/plain": [
              "51442"
            ]
          },
          "metadata": {},
          "execution_count": 25
        }
      ]
    },
    {
      "cell_type": "code",
      "metadata": {
        "id": "roFl5lgeJbZ2"
      },
      "source": [
        "with open('tokenizer.pickle', 'wb') as handle:\n",
        "    pkl.dump(tokenizer, handle, protocol=pkl.HIGHEST_PROTOCOL)"
      ],
      "execution_count": null,
      "outputs": []
    },
    {
      "cell_type": "code",
      "metadata": {
        "id": "UuUiZT9rWULI",
        "colab": {
          "base_uri": "https://localhost:8080/"
        },
        "outputId": "cd208a15-3ec9-45e3-c3cd-25ad5892ee9e"
      },
      "source": [
        "X = tokenizer.texts_to_sequences(df['input'].values)\n",
        "X = ks.preprocessing.sequence.pad_sequences(X, maxlen=max_sequence_length)\n",
        "X.shape"
      ],
      "execution_count": null,
      "outputs": [
        {
          "output_type": "execute_result",
          "data": {
            "text/plain": [
              "(200853, 250)"
            ]
          },
          "metadata": {},
          "execution_count": 27
        }
      ]
    },
    {
      "cell_type": "markdown",
      "metadata": {
        "id": "XUioh_GfbHE-"
      },
      "source": [
        "<h1>SPLITTING DATAFRAME TO TRAIN AND TEST DATA<h1>"
      ]
    },
    {
      "cell_type": "code",
      "metadata": {
        "id": "ThsOO2-3rbAe",
        "colab": {
          "base_uri": "https://localhost:8080/"
        },
        "outputId": "31c7232a-c263-47b9-e7da-f4b3ebf6bebf"
      },
      "source": [
        "X_train, X_val, Y_train, Y_val = train_test_split(X, Y, test_size=0.2, random_state=24)\n",
        "X_test, X_val, Y_test, Y_val = train_test_split(X_val, Y_val, test_size=0.5, random_state=24)\n",
        "X_train.shape, Y_train.shape, X_val.shape, Y_val.shape, X_test.shape, Y_test.shape"
      ],
      "execution_count": null,
      "outputs": [
        {
          "output_type": "execute_result",
          "data": {
            "text/plain": [
              "((160682, 250),\n",
              " (160682, 33),\n",
              " (20086, 250),\n",
              " (20086, 33),\n",
              " (20085, 250),\n",
              " (20085, 33))"
            ]
          },
          "metadata": {},
          "execution_count": 28
        }
      ]
    },
    {
      "cell_type": "markdown",
      "metadata": {
        "id": "dpoTdV-bbSPL"
      },
      "source": [
        "<h1>CREATE MODEL ARCHITECTURE</h1>"
      ]
    },
    {
      "cell_type": "code",
      "metadata": {
        "id": "gUHERDYbmqaU",
        "colab": {
          "base_uri": "https://localhost:8080/"
        },
        "outputId": "42fb9ea5-9b64-4f51-f78e-61620e94af28"
      },
      "source": [
        "model = ks.models.Sequential()\n",
        "\n",
        "model.add(ks.layers.Embedding(max_words, embedding_dims, input_length=X_train.shape[1]))\n",
        "model.add(ks.layers.SpatialDropout1D(0.3))\n",
        "\n",
        "model.add(ks.layers.LSTM(512, dropout=0.2))\n",
        "\n",
        "model.add(ks.layers.Dense(2048))\n",
        "model.add(ks.layers.LeakyReLU(alpha=0.2))\n",
        "model.add(ks.layers.Dropout(0.3))\n",
        "\n",
        "model.add(ks.layers.Dense(1024))\n",
        "model.add(ks.layers.LeakyReLU(alpha=0.3))\n",
        "model.add(ks.layers.Dropout(0.2))\n",
        "\n",
        "model.add(ks.layers.Dense(512))\n",
        "model.add(ks.layers.LeakyReLU(alpha=0.1))\n",
        "model.add(ks.layers.Dropout(0.1))\n",
        "\n",
        "model.add(ks.layers.Dense(256))\n",
        "model.add(ks.layers.LeakyReLU(alpha=0.2))\n",
        "\n",
        "model.add(ks.layers.Dense(128))\n",
        "model.add(ks.layers.LeakyReLU(alpha=0.3))\n",
        "\n",
        "model.add(ks.layers.Dense(64))\n",
        "model.add(ks.layers.LeakyReLU(alpha=0.1))\n",
        "\n",
        "model.add(ks.layers.Dense(Y.shape[1], activation='softmax'))\n",
        "model.summary()"
      ],
      "execution_count": null,
      "outputs": [
        {
          "output_type": "stream",
          "name": "stdout",
          "text": [
            "Model: \"sequential\"\n",
            "_________________________________________________________________\n",
            " Layer (type)                Output Shape              Param #   \n",
            "=================================================================\n",
            " embedding (Embedding)       (None, 250, 100)          5328000   \n",
            "                                                                 \n",
            " spatial_dropout1d (SpatialD  (None, 250, 100)         0         \n",
            " ropout1D)                                                       \n",
            "                                                                 \n",
            " lstm (LSTM)                 (None, 512)               1255424   \n",
            "                                                                 \n",
            " dense (Dense)               (None, 2048)              1050624   \n",
            "                                                                 \n",
            " leaky_re_lu (LeakyReLU)     (None, 2048)              0         \n",
            "                                                                 \n",
            " dropout (Dropout)           (None, 2048)              0         \n",
            "                                                                 \n",
            " dense_1 (Dense)             (None, 1024)              2098176   \n",
            "                                                                 \n",
            " leaky_re_lu_1 (LeakyReLU)   (None, 1024)              0         \n",
            "                                                                 \n",
            " dropout_1 (Dropout)         (None, 1024)              0         \n",
            "                                                                 \n",
            " dense_2 (Dense)             (None, 512)               524800    \n",
            "                                                                 \n",
            " leaky_re_lu_2 (LeakyReLU)   (None, 512)               0         \n",
            "                                                                 \n",
            " dropout_2 (Dropout)         (None, 512)               0         \n",
            "                                                                 \n",
            " dense_3 (Dense)             (None, 256)               131328    \n",
            "                                                                 \n",
            " leaky_re_lu_3 (LeakyReLU)   (None, 256)               0         \n",
            "                                                                 \n",
            " dense_4 (Dense)             (None, 128)               32896     \n",
            "                                                                 \n",
            " leaky_re_lu_4 (LeakyReLU)   (None, 128)               0         \n",
            "                                                                 \n",
            " dense_5 (Dense)             (None, 64)                8256      \n",
            "                                                                 \n",
            " leaky_re_lu_5 (LeakyReLU)   (None, 64)                0         \n",
            "                                                                 \n",
            " dense_6 (Dense)             (None, 33)                2145      \n",
            "                                                                 \n",
            "=================================================================\n",
            "Total params: 10,431,649\n",
            "Trainable params: 10,431,649\n",
            "Non-trainable params: 0\n",
            "_________________________________________________________________\n"
          ]
        }
      ]
    },
    {
      "cell_type": "markdown",
      "metadata": {
        "id": "8QvpEXIDbZjH"
      },
      "source": [
        "<h1>MODEL COMPILING AND FITTING</h1>"
      ]
    },
    {
      "cell_type": "code",
      "metadata": {
        "id": "MYTx_8P8sthr",
        "colab": {
          "base_uri": "https://localhost:8080/"
        },
        "outputId": "ffd8390a-426e-4bae-9081-89ef76970265"
      },
      "source": [
        "model.compile(loss=ks.losses.CategoricalCrossentropy(),\n",
        "              optimizer=ks.optimizers.RMSprop(learning_rate=1e-3),\n",
        "              metrics = [ks.metrics.CategoricalAccuracy(), ks.metrics.TopKCategoricalAccuracy(k=3)])\n",
        "e = 100\n",
        "es = ks.callbacks.EarlyStopping(monitor='val_loss', mode='min', restore_best_weights=False, patience=8)\n",
        "mc = ks.callbacks.ModelCheckpoint('weights.h5', monitor='val_loss', mode='min', save_best_only=True)\n",
        "rlrop = ks.callbacks.ReduceLROnPlateau(monitor='val_loss', mode='min', factor=0.2, patience=4)\n",
        "fit = model.fit(X_train, Y_train, epochs=e, callbacks=[es, mc, rlrop], validation_data=(X_val, Y_val))"
      ],
      "execution_count": null,
      "outputs": [
        {
          "output_type": "stream",
          "name": "stdout",
          "text": [
            "Epoch 1/100\n",
            "5022/5022 [==============================] - 610s 120ms/step - loss: 2.4123 - categorical_accuracy: 0.3638 - top_k_categorical_accuracy: 0.5590 - val_loss: 1.9482 - val_categorical_accuracy: 0.4881 - val_top_k_categorical_accuracy: 0.6781 - lr: 0.0010\n",
            "Epoch 2/100\n",
            "5022/5022 [==============================] - 603s 120ms/step - loss: 1.8827 - categorical_accuracy: 0.5131 - top_k_categorical_accuracy: 0.6984 - val_loss: 1.8167 - val_categorical_accuracy: 0.5330 - val_top_k_categorical_accuracy: 0.7070 - lr: 0.0010\n",
            "Epoch 3/100\n",
            "5022/5022 [==============================] - 601s 120ms/step - loss: 1.7036 - categorical_accuracy: 0.5615 - top_k_categorical_accuracy: 0.7434 - val_loss: 1.6939 - val_categorical_accuracy: 0.5761 - val_top_k_categorical_accuracy: 0.7480 - lr: 0.0010\n",
            "Epoch 4/100\n",
            "5022/5022 [==============================] - 602s 120ms/step - loss: 1.5926 - categorical_accuracy: 0.5921 - top_k_categorical_accuracy: 0.7703 - val_loss: 1.5771 - val_categorical_accuracy: 0.6032 - val_top_k_categorical_accuracy: 0.7773 - lr: 0.0010\n",
            "Epoch 5/100\n",
            "5022/5022 [==============================] - 601s 120ms/step - loss: 1.5268 - categorical_accuracy: 0.6116 - top_k_categorical_accuracy: 0.7870 - val_loss: 1.7798 - val_categorical_accuracy: 0.5648 - val_top_k_categorical_accuracy: 0.7341 - lr: 0.0010\n",
            "Epoch 6/100\n",
            "5022/5022 [==============================] - 606s 121ms/step - loss: 1.4612 - categorical_accuracy: 0.6276 - top_k_categorical_accuracy: 0.7997 - val_loss: 1.5043 - val_categorical_accuracy: 0.6153 - val_top_k_categorical_accuracy: 0.7895 - lr: 0.0010\n",
            "Epoch 7/100\n",
            "5022/5022 [==============================] - 606s 121ms/step - loss: 1.4205 - categorical_accuracy: 0.6378 - top_k_categorical_accuracy: 0.8081 - val_loss: 1.5712 - val_categorical_accuracy: 0.6153 - val_top_k_categorical_accuracy: 0.7886 - lr: 0.0010\n",
            "Epoch 8/100\n",
            "5022/5022 [==============================] - 606s 121ms/step - loss: 1.3913 - categorical_accuracy: 0.6444 - top_k_categorical_accuracy: 0.8151 - val_loss: 1.5523 - val_categorical_accuracy: 0.6202 - val_top_k_categorical_accuracy: 0.7884 - lr: 0.0010\n",
            "Epoch 9/100\n",
            "5022/5022 [==============================] - 608s 121ms/step - loss: 1.3874 - categorical_accuracy: 0.6507 - top_k_categorical_accuracy: 0.8168 - val_loss: 1.6267 - val_categorical_accuracy: 0.6089 - val_top_k_categorical_accuracy: 0.7757 - lr: 0.0010\n",
            "Epoch 10/100\n",
            "5022/5022 [==============================] - 608s 121ms/step - loss: 1.3685 - categorical_accuracy: 0.6542 - top_k_categorical_accuracy: 0.8197 - val_loss: 1.6261 - val_categorical_accuracy: 0.5975 - val_top_k_categorical_accuracy: 0.7668 - lr: 0.0010\n",
            "Epoch 11/100\n",
            "5022/5022 [==============================] - 609s 121ms/step - loss: 1.1581 - categorical_accuracy: 0.6946 - top_k_categorical_accuracy: 0.8543 - val_loss: 1.4001 - val_categorical_accuracy: 0.6438 - val_top_k_categorical_accuracy: 0.8213 - lr: 2.0000e-04\n",
            "Epoch 12/100\n",
            "5022/5022 [==============================] - 624s 124ms/step - loss: 1.1360 - categorical_accuracy: 0.6985 - top_k_categorical_accuracy: 0.8573 - val_loss: 1.4467 - val_categorical_accuracy: 0.6437 - val_top_k_categorical_accuracy: 0.8170 - lr: 2.0000e-04\n",
            "Epoch 13/100\n",
            "5022/5022 [==============================] - 608s 121ms/step - loss: 1.1297 - categorical_accuracy: 0.7013 - top_k_categorical_accuracy: 0.8589 - val_loss: 1.4461 - val_categorical_accuracy: 0.6406 - val_top_k_categorical_accuracy: 0.8153 - lr: 2.0000e-04\n",
            "Epoch 14/100\n",
            "5022/5022 [==============================] - 608s 121ms/step - loss: 1.1284 - categorical_accuracy: 0.7031 - top_k_categorical_accuracy: 0.8601 - val_loss: 1.4177 - val_categorical_accuracy: 0.6426 - val_top_k_categorical_accuracy: 0.8166 - lr: 2.0000e-04\n",
            "Epoch 15/100\n",
            "5022/5022 [==============================] - 608s 121ms/step - loss: 1.1220 - categorical_accuracy: 0.7046 - top_k_categorical_accuracy: 0.8601 - val_loss: 1.4570 - val_categorical_accuracy: 0.6419 - val_top_k_categorical_accuracy: 0.8132 - lr: 2.0000e-04\n",
            "Epoch 16/100\n",
            "5022/5022 [==============================] - 608s 121ms/step - loss: 1.0596 - categorical_accuracy: 0.7165 - top_k_categorical_accuracy: 0.8710 - val_loss: 1.4061 - val_categorical_accuracy: 0.6468 - val_top_k_categorical_accuracy: 0.8242 - lr: 4.0000e-05\n",
            "Epoch 17/100\n",
            "5022/5022 [==============================] - 608s 121ms/step - loss: 1.0598 - categorical_accuracy: 0.7168 - top_k_categorical_accuracy: 0.8717 - val_loss: 1.4244 - val_categorical_accuracy: 0.6479 - val_top_k_categorical_accuracy: 0.8253 - lr: 4.0000e-05\n",
            "Epoch 18/100\n",
            "5022/5022 [==============================] - 610s 121ms/step - loss: 1.0604 - categorical_accuracy: 0.7169 - top_k_categorical_accuracy: 0.8720 - val_loss: 1.4155 - val_categorical_accuracy: 0.6473 - val_top_k_categorical_accuracy: 0.8239 - lr: 4.0000e-05\n",
            "Epoch 19/100\n",
            "5022/5022 [==============================] - 609s 121ms/step - loss: 1.0531 - categorical_accuracy: 0.7174 - top_k_categorical_accuracy: 0.8720 - val_loss: 1.4270 - val_categorical_accuracy: 0.6465 - val_top_k_categorical_accuracy: 0.8230 - lr: 4.0000e-05\n"
          ]
        }
      ]
    },
    {
      "cell_type": "code",
      "metadata": {
        "id": "yrzvHEShuktX",
        "colab": {
          "base_uri": "https://localhost:8080/",
          "height": 295
        },
        "outputId": "7951a194-d1c5-42da-fb2a-5064c93ef0a8"
      },
      "source": [
        "plt.plot(fit.history['loss'])\n",
        "plt.plot(fit.history['val_loss'])\n",
        "plt.title('Model Loss')\n",
        "plt.xlabel('Epochs')\n",
        "plt.ylabel('Loss')\n",
        "plt.legend(['train_loss', 'val_loss'], loc='upper right')\n",
        "plt.show()"
      ],
      "execution_count": null,
      "outputs": [
        {
          "output_type": "display_data",
          "data": {
            "image/png": "[encoded data removed]",
            "text/plain": [
              "<Figure size 432x288 with 1 Axes>"
            ]
          },
          "metadata": {
            "needs_background": "light"
          }
        }
      ]
    },
    {
      "cell_type": "code",
      "metadata": {
        "id": "DWABN14Mup-n",
        "colab": {
          "base_uri": "https://localhost:8080/",
          "height": 295
        },
        "outputId": "51df32a1-f885-4b0a-8568-090338790b9b"
      },
      "source": [
        "plt.plot(fit.history['categorical_accuracy'])\n",
        "plt.plot(fit.history['val_categorical_accuracy'])\n",
        "plt.title('Model Accuracy')\n",
        "plt.xlabel('Epochs')\n",
        "plt.ylabel('Accuracy')\n",
        "plt.legend(['train_categorical_accuracy', 'val_categorical_accuracy'], loc='upper right')\n",
        "plt.show()"
      ],
      "execution_count": null,
      "outputs": [
        {
          "output_type": "display_data",
          "data": {
            "image/png": "[encoded data removed]",
            "text/plain": [
              "<Figure size 432x288 with 1 Axes>"
            ]
          },
          "metadata": {
            "needs_background": "light"
          }
        }
      ]
    },
    {
      "cell_type": "code",
      "metadata": {
        "id": "gZ3xmVq8YTDJ",
        "colab": {
          "base_uri": "https://localhost:8080/"
        },
        "outputId": "425760de-c7a5-425c-caac-ae7897c734d8"
      },
      "source": [
        "model.save('model.hdf5')\n",
        "model.evaluate(X_test, Y_test)"
      ],
      "execution_count": null,
      "outputs": [
        {
          "output_type": "stream",
          "name": "stdout",
          "text": [
            "628/628 [==============================] - 27s 43ms/step - loss: 1.4103 - categorical_accuracy: 0.6479 - top_k_categorical_accuracy: 0.8250\n"
          ]
        },
        {
          "output_type": "execute_result",
          "data": {
            "text/plain": [
              "[1.4102880954742432, 0.6478964686393738, 0.8249937891960144]"
            ]
          },
          "metadata": {},
          "execution_count": 33
        }
      ]
    },
    {
      "cell_type": "code",
      "metadata": {
        "id": "JWCgkkKNUI-s",
        "colab": {
          "base_uri": "https://localhost:8080/",
          "height": 17
        },
        "outputId": "3caf29b7-cd6e-46e0-82f3-2acfc88e8c7f"
      },
      "source": [
        "from google.colab import files\n",
        "files.download('/content/tokenizer.pickle')\n",
        "files.download('/content/model.hdf5')\n",
        "files.download('/content/weights.h5')"
      ],
      "execution_count": null,
      "outputs": [
        {
          "output_type": "display_data",
          "data": {
            "application/javascript": [
              "\n",
              "    async function download(id, filename, size) {\n",
              "      if (!google.colab.kernel.accessAllowed) {\n",
              "        return;\n",
              "      }\n",
              "      const div = document.createElement('div');\n",
              "      const label = document.createElement('label');\n",
              "      label.textContent = `Downloading \"${filename}\": `;\n",
              "      div.appendChild(label);\n",
              "      const progress = document.createElement('progress');\n",
              "      progress.max = size;\n",
              "      div.appendChild(progress);\n",
              "      document.body.appendChild(div);\n",
              "\n",
              "      const buffers = [];\n",
              "      let downloaded = 0;\n",
              "\n",
              "      const channel = await google.colab.kernel.comms.open(id);\n",
              "      // Send a message to notify the kernel that we're ready.\n",
              "      channel.send({})\n",
              "\n",
              "      for await (const message of channel.messages) {\n",
              "        // Send a message to notify the kernel that we're ready.\n",
              "        channel.send({})\n",
              "        if (message.buffers) {\n",
              "          for (const buffer of message.buffers) {\n",
              "            buffers.push(buffer);\n",
              "            downloaded += buffer.byteLength;\n",
              "            progress.value = downloaded;\n",
              "          }\n",
              "        }\n",
              "      }\n",
              "      const blob = new Blob(buffers, {type: 'application/binary'});\n",
              "      const a = document.createElement('a');\n",
              "      a.href = window.URL.createObjectURL(blob);\n",
              "      a.download = filename;\n",
              "      div.appendChild(a);\n",
              "      a.click();\n",
              "      div.remove();\n",
              "    }\n",
              "  "
            ],
            "text/plain": [
              "<IPython.core.display.Javascript object>"
            ]
          },
          "metadata": {}
        },
        {
          "output_type": "display_data",
          "data": {
            "application/javascript": [
              "download(\"download_98878446-6eb7-401a-af44-0f94a5f8308c\", \"tokenizer.pickle\", 2089060)"
            ],
            "text/plain": [
              "<IPython.core.display.Javascript object>"
            ]
          },
          "metadata": {}
        },
        {
          "output_type": "display_data",
          "data": {
            "application/javascript": [
              "\n",
              "    async function download(id, filename, size) {\n",
              "      if (!google.colab.kernel.accessAllowed) {\n",
              "        return;\n",
              "      }\n",
              "      const div = document.createElement('div');\n",
              "      const label = document.createElement('label');\n",
              "      label.textContent = `Downloading \"${filename}\": `;\n",
              "      div.appendChild(label);\n",
              "      const progress = document.createElement('progress');\n",
              "      progress.max = size;\n",
              "      div.appendChild(progress);\n",
              "      document.body.appendChild(div);\n",
              "\n",
              "      const buffers = [];\n",
              "      let downloaded = 0;\n",
              "\n",
              "      const channel = await google.colab.kernel.comms.open(id);\n",
              "      // Send a message to notify the kernel that we're ready.\n",
              "      channel.send({})\n",
              "\n",
              "      for await (const message of channel.messages) {\n",
              "        // Send a message to notify the kernel that we're ready.\n",
              "        channel.send({})\n",
              "        if (message.buffers) {\n",
              "          for (const buffer of message.buffers) {\n",
              "            buffers.push(buffer);\n",
              "            downloaded += buffer.byteLength;\n",
              "            progress.value = downloaded;\n",
              "          }\n",
              "        }\n",
              "      }\n",
              "      const blob = new Blob(buffers, {type: 'application/binary'});\n",
              "      const a = document.createElement('a');\n",
              "      a.href = window.URL.createObjectURL(blob);\n",
              "      a.download = filename;\n",
              "      div.appendChild(a);\n",
              "      a.click();\n",
              "      div.remove();\n",
              "    }\n",
              "  "
            ],
            "text/plain": [
              "<IPython.core.display.Javascript object>"
            ]
          },
          "metadata": {}
        },
        {
          "output_type": "display_data",
          "data": {
            "application/javascript": [
              "download(\"download_366574b4-bbf2-4495-8a8e-b67b5de8af7a\", \"model.hdf5\", 83542464)"
            ],
            "text/plain": [
              "<IPython.core.display.Javascript object>"
            ]
          },
          "metadata": {}
        },
        {
          "output_type": "display_data",
          "data": {
            "application/javascript": [
              "\n",
              "    async function download(id, filename, size) {\n",
              "      if (!google.colab.kernel.accessAllowed) {\n",
              "        return;\n",
              "      }\n",
              "      const div = document.createElement('div');\n",
              "      const label = document.createElement('label');\n",
              "      label.textContent = `Downloading \"${filename}\": `;\n",
              "      div.appendChild(label);\n",
              "      const progress = document.createElement('progress');\n",
              "      progress.max = size;\n",
              "      div.appendChild(progress);\n",
              "      document.body.appendChild(div);\n",
              "\n",
              "      const buffers = [];\n",
              "      let downloaded = 0;\n",
              "\n",
              "      const channel = await google.colab.kernel.comms.open(id);\n",
              "      // Send a message to notify the kernel that we're ready.\n",
              "      channel.send({})\n",
              "\n",
              "      for await (const message of channel.messages) {\n",
              "        // Send a message to notify the kernel that we're ready.\n",
              "        channel.send({})\n",
              "        if (message.buffers) {\n",
              "          for (const buffer of message.buffers) {\n",
              "            buffers.push(buffer);\n",
              "            downloaded += buffer.byteLength;\n",
              "            progress.value = downloaded;\n",
              "          }\n",
              "        }\n",
              "      }\n",
              "      const blob = new Blob(buffers, {type: 'application/binary'});\n",
              "      const a = document.createElement('a');\n",
              "      a.href = window.URL.createObjectURL(blob);\n",
              "      a.download = filename;\n",
              "      div.appendChild(a);\n",
              "      a.click();\n",
              "      div.remove();\n",
              "    }\n",
              "  "
            ],
            "text/plain": [
              "<IPython.core.display.Javascript object>"
            ]
          },
          "metadata": {}
        },
        {
          "output_type": "display_data",
          "data": {
            "application/javascript": [
              "download(\"download_47e257bd-75a5-4d11-926f-8a85e7741333\", \"weights.h5\", 83542464)"
            ],
            "text/plain": [
              "<IPython.core.display.Javascript object>"
            ]
          },
          "metadata": {}
        }
      ]
    }
  ]
}